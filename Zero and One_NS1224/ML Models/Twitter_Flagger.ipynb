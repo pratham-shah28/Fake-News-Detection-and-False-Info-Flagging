{
 "cells": [
  {
   "cell_type": "code",
   "execution_count": 271,
   "id": "0d145ac5",
   "metadata": {},
   "outputs": [],
   "source": [
    "import pandas as pd\n",
    "import numpy as np\n",
    "import tweepy as tp\n",
    "import re"
   ]
  },
  {
   "cell_type": "code",
   "execution_count": 272,
   "id": "bbaa5f98",
   "metadata": {},
   "outputs": [],
   "source": [
    "consumer_key=\"2xsV8waTmgpIRybs3ZoQFmVkE\"\n",
    "consumer_secret=\"VmJvW21EruwO4fXb8Kd4CbPbsktjQpUKRHMrguUZjgPGdF9em8\"\n",
    "access_token=\"3425340493-NJyfdeFH7QIZ3Y3By8uh9iIeaUPIn3CAUcprMid\"\n",
    "access_token_secret=\"jlNMB0r1QYL1xdUzgOh4sUUgqkNmmvK5aaWL7KUTZZEMC\"\n",
    "Bearer_token = \"AAAAAAAAAAAAAAAAAAAAAMzZdwEAAAAA5nSrPNHZRUCQhQv5Tewj5auirzw%3DWii3iLoP9sDxPS9BRWkiGF9ZHF6LX6l0jqhM8JvCVTxoVCNqcF\""
   ]
  },
  {
   "cell_type": "code",
   "execution_count": 273,
   "id": "bc3aac84",
   "metadata": {},
   "outputs": [],
   "source": [
    "client = tp.Client(bearer_token = Bearer_token)"
   ]
  },
  {
   "cell_type": "code",
   "execution_count": 274,
   "id": "8235725b",
   "metadata": {},
   "outputs": [],
   "source": [
    "query = 'indian economy'\n",
    "tweets = client.search_recent_tweets(query=query, tweet_fields=['context_annotations', 'created_at'], max_results=100)"
   ]
  },
  {
   "cell_type": "code",
   "execution_count": 275,
   "id": "e7ec139a",
   "metadata": {},
   "outputs": [],
   "source": [
    "df = pd.DataFrame(tweets[0])\n"
   ]
  },
  {
   "cell_type": "code",
   "execution_count": 276,
   "id": "fd7e470e",
   "metadata": {},
   "outputs": [],
   "source": [
    "df = df.drop(['context_annotations'], axis = 1)"
   ]
  },
  {
   "cell_type": "code",
   "execution_count": 277,
   "id": "0668b130",
   "metadata": {},
   "outputs": [
    {
     "data": {
      "text/html": [
       "<div>\n",
       "<style scoped>\n",
       "    .dataframe tbody tr th:only-of-type {\n",
       "        vertical-align: middle;\n",
       "    }\n",
       "\n",
       "    .dataframe tbody tr th {\n",
       "        vertical-align: top;\n",
       "    }\n",
       "\n",
       "    .dataframe thead th {\n",
       "        text-align: right;\n",
       "    }\n",
       "</style>\n",
       "<table border=\"1\" class=\"dataframe\">\n",
       "  <thead>\n",
       "    <tr style=\"text-align: right;\">\n",
       "      <th></th>\n",
       "      <th>created_at</th>\n",
       "      <th>id</th>\n",
       "      <th>text</th>\n",
       "    </tr>\n",
       "  </thead>\n",
       "  <tbody>\n",
       "    <tr>\n",
       "      <th>0</th>\n",
       "      <td>2022-08-26 12:12:57+00:00</td>\n",
       "      <td>1563137420509335552</td>\n",
       "      <td>as per reports, The #ResurgentEssar is a big b...</td>\n",
       "    </tr>\n",
       "    <tr>\n",
       "      <th>1</th>\n",
       "      <td>2022-08-26 12:12:50+00:00</td>\n",
       "      <td>1563137390767575041</td>\n",
       "      <td>Goals of Essar will surely give more boost to ...</td>\n",
       "    </tr>\n",
       "    <tr>\n",
       "      <th>2</th>\n",
       "      <td>2022-08-26 12:12:15+00:00</td>\n",
       "      <td>1563137244206370816</td>\n",
       "      <td>Guys check out this Indian economy and banks a...</td>\n",
       "    </tr>\n",
       "    <tr>\n",
       "      <th>3</th>\n",
       "      <td>2022-08-26 12:08:24+00:00</td>\n",
       "      <td>1563136277377339392</td>\n",
       "      <td>RT @MoneycareP: India receives record high FDI...</td>\n",
       "    </tr>\n",
       "    <tr>\n",
       "      <th>4</th>\n",
       "      <td>2022-08-26 12:05:43+00:00</td>\n",
       "      <td>1563135601460752384</td>\n",
       "      <td>નાણાકીય વર્ષ 22-23 ના પ્રથમ ત્રિમાસિક ગાળામાં ...</td>\n",
       "    </tr>\n",
       "    <tr>\n",
       "      <th>...</th>\n",
       "      <td>...</td>\n",
       "      <td>...</td>\n",
       "      <td>...</td>\n",
       "    </tr>\n",
       "    <tr>\n",
       "      <th>95</th>\n",
       "      <td>2022-08-26 11:33:34+00:00</td>\n",
       "      <td>1563127509641678848</td>\n",
       "      <td>RT @SevadalKL: India's outstanding debt is est...</td>\n",
       "    </tr>\n",
       "    <tr>\n",
       "      <th>96</th>\n",
       "      <td>2022-08-26 11:29:59+00:00</td>\n",
       "      <td>1563126609799827463</td>\n",
       "      <td>Its good for Indian economy,Indian company Ess...</td>\n",
       "    </tr>\n",
       "    <tr>\n",
       "      <th>97</th>\n",
       "      <td>2022-08-26 11:28:22+00:00</td>\n",
       "      <td>1563126199949606914</td>\n",
       "      <td>@Devinder_Sharma Piyush goyal is the most inco...</td>\n",
       "    </tr>\n",
       "    <tr>\n",
       "      <th>98</th>\n",
       "      <td>2022-08-26 11:25:20+00:00</td>\n",
       "      <td>1563125439866236929</td>\n",
       "      <td>FY 22-23 की पहली तिमाही में भारतीय अर्थव्यवस्थ...</td>\n",
       "    </tr>\n",
       "    <tr>\n",
       "      <th>99</th>\n",
       "      <td>2022-08-26 11:24:37+00:00</td>\n",
       "      <td>1563125259053989888</td>\n",
       "      <td>RT @rishibagree: In a big blow to arm chair ec...</td>\n",
       "    </tr>\n",
       "  </tbody>\n",
       "</table>\n",
       "<p>100 rows × 3 columns</p>\n",
       "</div>"
      ],
      "text/plain": [
       "                  created_at                   id  \\\n",
       "0  2022-08-26 12:12:57+00:00  1563137420509335552   \n",
       "1  2022-08-26 12:12:50+00:00  1563137390767575041   \n",
       "2  2022-08-26 12:12:15+00:00  1563137244206370816   \n",
       "3  2022-08-26 12:08:24+00:00  1563136277377339392   \n",
       "4  2022-08-26 12:05:43+00:00  1563135601460752384   \n",
       "..                       ...                  ...   \n",
       "95 2022-08-26 11:33:34+00:00  1563127509641678848   \n",
       "96 2022-08-26 11:29:59+00:00  1563126609799827463   \n",
       "97 2022-08-26 11:28:22+00:00  1563126199949606914   \n",
       "98 2022-08-26 11:25:20+00:00  1563125439866236929   \n",
       "99 2022-08-26 11:24:37+00:00  1563125259053989888   \n",
       "\n",
       "                                                 text  \n",
       "0   as per reports, The #ResurgentEssar is a big b...  \n",
       "1   Goals of Essar will surely give more boost to ...  \n",
       "2   Guys check out this Indian economy and banks a...  \n",
       "3   RT @MoneycareP: India receives record high FDI...  \n",
       "4   નાણાકીય વર્ષ 22-23 ના પ્રથમ ત્રિમાસિક ગાળામાં ...  \n",
       "..                                                ...  \n",
       "95  RT @SevadalKL: India's outstanding debt is est...  \n",
       "96  Its good for Indian economy,Indian company Ess...  \n",
       "97  @Devinder_Sharma Piyush goyal is the most inco...  \n",
       "98  FY 22-23 की पहली तिमाही में भारतीय अर्थव्यवस्थ...  \n",
       "99  RT @rishibagree: In a big blow to arm chair ec...  \n",
       "\n",
       "[100 rows x 3 columns]"
      ]
     },
     "execution_count": 277,
     "metadata": {},
     "output_type": "execute_result"
    }
   ],
   "source": [
    "df"
   ]
  },
  {
   "cell_type": "code",
   "execution_count": 278,
   "id": "79f5bb69",
   "metadata": {},
   "outputs": [
    {
     "name": "stderr",
     "output_type": "stream",
     "text": [
      "C:\\Users\\PRATHA~1\\AppData\\Local\\Temp/ipykernel_27304/3334901521.py:2: SettingWithCopyWarning: \n",
      "A value is trying to be set on a copy of a slice from a DataFrame\n",
      "\n",
      "See the caveats in the documentation: https://pandas.pydata.org/pandas-docs/stable/user_guide/indexing.html#returning-a-view-versus-a-copy\n",
      "  df['text'][i] = clean_data(df['text'][i])\n"
     ]
    },
    {
     "data": {
      "text/plain": [
       "'RT : In a big blow to arm chair economists who were predicting gloom and doom about Indian Economy  - \\n\\n90,000 new companies re…'"
      ]
     },
     "execution_count": 278,
     "metadata": {},
     "output_type": "execute_result"
    }
   ],
   "source": [
    "for i in range(len(df['text'])):\n",
    "    df['text'][i] = clean_data(df['text'][i])\n",
    "df.text[99]"
   ]
  },
  {
   "cell_type": "code",
   "execution_count": 234,
   "id": "bd67a8d2",
   "metadata": {},
   "outputs": [],
   "source": [
    "#potential false attributes\n",
    "pfi = ['tanking' 'down', 'going down', 'bad','worse','worsening','spiral','worst','rise','fall','falling','down','gone','done for','no future','debt']\n"
   ]
  },
  {
   "cell_type": "markdown",
   "id": "e353bc11",
   "metadata": {},
   "source": [
    "# Flagging using key attributes"
   ]
  },
  {
   "cell_type": "code",
   "execution_count": 279,
   "id": "dda6d15e",
   "metadata": {},
   "outputs": [],
   "source": [
    "def identify_subject(tweet, refs):\n",
    "    flag = 0 \n",
    "    for ref in refs:\n",
    "        if tweet.find(ref) != -1:\n",
    "            flag = 1\n",
    "    return flag\n",
    "\n",
    "df['pfi'] = df['text'].apply(lambda x: identify_subject(x, pfi)) \n"
   ]
  },
  {
   "cell_type": "code",
   "execution_count": 280,
   "id": "4ce583cf",
   "metadata": {},
   "outputs": [
    {
     "data": {
      "text/html": [
       "<div>\n",
       "<style scoped>\n",
       "    .dataframe tbody tr th:only-of-type {\n",
       "        vertical-align: middle;\n",
       "    }\n",
       "\n",
       "    .dataframe tbody tr th {\n",
       "        vertical-align: top;\n",
       "    }\n",
       "\n",
       "    .dataframe thead th {\n",
       "        text-align: right;\n",
       "    }\n",
       "</style>\n",
       "<table border=\"1\" class=\"dataframe\">\n",
       "  <thead>\n",
       "    <tr style=\"text-align: right;\">\n",
       "      <th></th>\n",
       "      <th>created_at</th>\n",
       "      <th>id</th>\n",
       "      <th>text</th>\n",
       "      <th>pfi</th>\n",
       "    </tr>\n",
       "  </thead>\n",
       "  <tbody>\n",
       "    <tr>\n",
       "      <th>8</th>\n",
       "      <td>2022-08-26 11:57:23+00:00</td>\n",
       "      <td>1563133503817928704</td>\n",
       "      <td>RT : India's outstanding debt is estimated to ...</td>\n",
       "      <td>1</td>\n",
       "    </tr>\n",
       "    <tr>\n",
       "      <th>10</th>\n",
       "      <td>2022-08-26 11:55:33+00:00</td>\n",
       "      <td>1563133041643786241</td>\n",
       "      <td>RT : Racism against Indians will rise even mor...</td>\n",
       "      <td>1</td>\n",
       "    </tr>\n",
       "    <tr>\n",
       "      <th>16</th>\n",
       "      <td>2022-08-26 11:47:13+00:00</td>\n",
       "      <td>1563130946861543425</td>\n",
       "      <td>I would attribute it to the liberalization of...</td>\n",
       "      <td>1</td>\n",
       "    </tr>\n",
       "    <tr>\n",
       "      <th>19</th>\n",
       "      <td>2022-08-26 11:40:36+00:00</td>\n",
       "      <td>1563129277952176129</td>\n",
       "      <td>Consistently this will help the Indian economy...</td>\n",
       "      <td>1</td>\n",
       "    </tr>\n",
       "    <tr>\n",
       "      <th>30</th>\n",
       "      <td>2022-08-26 11:37:30+00:00</td>\n",
       "      <td>1563128499547693059</td>\n",
       "      <td>Proud to the Indian corporate come forward to ...</td>\n",
       "      <td>1</td>\n",
       "    </tr>\n",
       "    <tr>\n",
       "      <th>42</th>\n",
       "      <td>2022-08-26 11:36:45+00:00</td>\n",
       "      <td>1563128310015864834</td>\n",
       "      <td>Proud to the Indian corporate come forward to ...</td>\n",
       "      <td>1</td>\n",
       "    </tr>\n",
       "    <tr>\n",
       "      <th>48</th>\n",
       "      <td>2022-08-26 11:36:30+00:00</td>\n",
       "      <td>1563128249143934980</td>\n",
       "      <td>A debt repayment plan and this is a big step i...</td>\n",
       "      <td>1</td>\n",
       "    </tr>\n",
       "    <tr>\n",
       "      <th>78</th>\n",
       "      <td>2022-08-26 11:35:24+00:00</td>\n",
       "      <td>1563127973263609856</td>\n",
       "      <td>Such a significant news Essar bring a debt rep...</td>\n",
       "      <td>1</td>\n",
       "    </tr>\n",
       "    <tr>\n",
       "      <th>95</th>\n",
       "      <td>2022-08-26 11:33:34+00:00</td>\n",
       "      <td>1563127509641678848</td>\n",
       "      <td>RT : India's outstanding debt is estimated to ...</td>\n",
       "      <td>1</td>\n",
       "    </tr>\n",
       "  </tbody>\n",
       "</table>\n",
       "</div>"
      ],
      "text/plain": [
       "                  created_at                   id  \\\n",
       "8  2022-08-26 11:57:23+00:00  1563133503817928704   \n",
       "10 2022-08-26 11:55:33+00:00  1563133041643786241   \n",
       "16 2022-08-26 11:47:13+00:00  1563130946861543425   \n",
       "19 2022-08-26 11:40:36+00:00  1563129277952176129   \n",
       "30 2022-08-26 11:37:30+00:00  1563128499547693059   \n",
       "42 2022-08-26 11:36:45+00:00  1563128310015864834   \n",
       "48 2022-08-26 11:36:30+00:00  1563128249143934980   \n",
       "78 2022-08-26 11:35:24+00:00  1563127973263609856   \n",
       "95 2022-08-26 11:33:34+00:00  1563127509641678848   \n",
       "\n",
       "                                                 text  pfi  \n",
       "8   RT : India's outstanding debt is estimated to ...    1  \n",
       "10  RT : Racism against Indians will rise even mor...    1  \n",
       "16   I would attribute it to the liberalization of...    1  \n",
       "19  Consistently this will help the Indian economy...    1  \n",
       "30  Proud to the Indian corporate come forward to ...    1  \n",
       "42  Proud to the Indian corporate come forward to ...    1  \n",
       "48  A debt repayment plan and this is a big step i...    1  \n",
       "78  Such a significant news Essar bring a debt rep...    1  \n",
       "95  RT : India's outstanding debt is estimated to ...    1  "
      ]
     },
     "execution_count": 280,
     "metadata": {},
     "output_type": "execute_result"
    }
   ],
   "source": [
    "df2 = df[df.pfi != 0]\n",
    "df2"
   ]
  },
  {
   "cell_type": "code",
   "execution_count": 257,
   "id": "8e58ce25",
   "metadata": {},
   "outputs": [],
   "source": [
    "list = {\"tweetId\":[], \"text\":[]}\n",
    "def clean_data(s):\n",
    "    \n",
    "    data = re.sub(r'@[a-zA-Z0-9_]:+', '', s)\n",
    "    data = re.sub(r'@[a-zA-Z0-9_]+', '', data)\n",
    "    data = re.sub(r'#[a-zA-Z0-9_]+', '', data)\n",
    "    data = re.sub(r'^https:\\/\\/t\\.co\\/[a-zA-Z0-9]+', '', data)\n",
    "    data = re.sub(r'^RT$', '', data)\n",
    "    data = re.sub(r'^\\n$', '', data)\n",
    "    return data"
   ]
  },
  {
   "cell_type": "markdown",
   "id": "fd620235",
   "metadata": {},
   "source": [
    "# Flagging using emotion "
   ]
  },
  {
   "cell_type": "code",
   "execution_count": 180,
   "id": "1a49f9ec",
   "metadata": {},
   "outputs": [
    {
     "name": "stderr",
     "output_type": "stream",
     "text": [
      "[nltk_data] Downloading package stopwords to C:\\Users\\Pratham\n",
      "[nltk_data]     Shah\\AppData\\Roaming\\nltk_data...\n",
      "[nltk_data]   Package stopwords is already up-to-date!\n",
      "[nltk_data] Downloading package wordnet to C:\\Users\\Pratham\n",
      "[nltk_data]     Shah\\AppData\\Roaming\\nltk_data...\n",
      "[nltk_data]   Package wordnet is already up-to-date!\n"
     ]
    }
   ],
   "source": []
  },
  {
   "cell_type": "code",
   "execution_count": 258,
   "id": "a6183e84",
   "metadata": {},
   "outputs": [],
   "source": [
    "def preprocess_tweets(tweet, custom_stopwords):\n",
    "    processed_tweet = tweet\n",
    "    processed_tweet.replace('[^\\w\\s]', '')\n",
    "    processed_tweet = \" \".join(word for word in processed_tweet.split() if word not in stop_words)\n",
    "    processed_tweet = \" \".join(word for word in processed_tweet.split() if word not in custom_stopwords)\n",
    "    processed_tweet = \" \".join(Word(word).lemmatize() for word in processed_tweet.split())\n",
    "    return(processed_tweet)\n",
    "\n",
    "df['Processed Tweet'] = df['text'].apply(lambda x: preprocess_tweets(x, custom_stopwords))\n"
   ]
  },
  {
   "cell_type": "code",
   "execution_count": 268,
   "id": "fb311d80",
   "metadata": {},
   "outputs": [
    {
     "name": "stdout",
     "output_type": "stream",
     "text": [
      "Collecting rake-nltk\n",
      "  Downloading rake_nltk-1.0.6-py3-none-any.whl (9.1 kB)\n",
      "Requirement already satisfied: nltk<4.0.0,>=3.6.2 in c:\\programdata\\anaconda3\\lib\\site-packages (from rake-nltk) (3.6.5)\n",
      "Requirement already satisfied: click in c:\\programdata\\anaconda3\\lib\\site-packages (from nltk<4.0.0,>=3.6.2->rake-nltk) (8.0.3)"
     ]
    },
    {
     "name": "stderr",
     "output_type": "stream",
     "text": [
      "WARNING: Ignoring invalid distribution - (c:\\programdata\\anaconda3\\lib\\site-packages)\n",
      "WARNING: Ignoring invalid distribution -equests (c:\\programdata\\anaconda3\\lib\\site-packages)\n",
      "WARNING: Ignoring invalid distribution - (c:\\programdata\\anaconda3\\lib\\site-packages)\n",
      "WARNING: Ignoring invalid distribution -equests (c:\\programdata\\anaconda3\\lib\\site-packages)\n",
      "WARNING: Ignoring invalid distribution - (c:\\programdata\\anaconda3\\lib\\site-packages)\n",
      "WARNING: Ignoring invalid distribution -equests (c:\\programdata\\anaconda3\\lib\\site-packages)\n",
      "WARNING: Ignoring invalid distribution - (c:\\programdata\\anaconda3\\lib\\site-packages)\n",
      "WARNING: Ignoring invalid distribution -equests (c:\\programdata\\anaconda3\\lib\\site-packages)\n",
      "WARNING: Ignoring invalid distribution - (c:\\programdata\\anaconda3\\lib\\site-packages)\n",
      "WARNING: Ignoring invalid distribution -equests (c:\\programdata\\anaconda3\\lib\\site-packages)\n",
      "WARNING: Ignoring invalid distribution - (c:\\programdata\\anaconda3\\lib\\site-packages)\n",
      "WARNING: Ignoring invalid distribution -equests (c:\\programdata\\anaconda3\\lib\\site-packages)\n",
      "WARNING: Ignoring invalid distribution - (c:\\programdata\\anaconda3\\lib\\site-packages)\n",
      "WARNING: Ignoring invalid distribution -equests (c:\\programdata\\anaconda3\\lib\\site-packages)\n"
     ]
    },
    {
     "name": "stdout",
     "output_type": "stream",
     "text": [
      "\n",
      "Requirement already satisfied: joblib in c:\\programdata\\anaconda3\\lib\\site-packages (from nltk<4.0.0,>=3.6.2->rake-nltk) (1.1.0)\n",
      "Requirement already satisfied: regex>=2021.8.3 in c:\\programdata\\anaconda3\\lib\\site-packages (from nltk<4.0.0,>=3.6.2->rake-nltk) (2021.8.3)\n",
      "Requirement already satisfied: tqdm in c:\\programdata\\anaconda3\\lib\\site-packages (from nltk<4.0.0,>=3.6.2->rake-nltk) (4.62.3)\n",
      "Requirement already satisfied: colorama in c:\\programdata\\anaconda3\\lib\\site-packages (from click->nltk<4.0.0,>=3.6.2->rake-nltk) (0.4.4)\n",
      "Installing collected packages: rake-nltk\n",
      "Successfully installed rake-nltk-1.0.6\n"
     ]
    }
   ],
   "source": [
    "!pip install rake-nltk"
   ]
  },
  {
   "cell_type": "code",
   "execution_count": 270,
   "id": "4edc500b",
   "metadata": {},
   "outputs": [],
   "source": [
    "from rake_nltk import Rake"
   ]
  },
  {
   "cell_type": "code",
   "execution_count": null,
   "id": "198676e3",
   "metadata": {},
   "outputs": [],
   "source": [
    "r = Rake()"
   ]
  }
 ],
 "metadata": {
  "kernelspec": {
   "display_name": "Python 3 (ipykernel)",
   "language": "python",
   "name": "python3"
  },
  "language_info": {
   "codemirror_mode": {
    "name": "ipython",
    "version": 3
   },
   "file_extension": ".py",
   "mimetype": "text/x-python",
   "name": "python",
   "nbconvert_exporter": "python",
   "pygments_lexer": "ipython3",
   "version": "3.9.7"
  }
 },
 "nbformat": 4,
 "nbformat_minor": 5
}
